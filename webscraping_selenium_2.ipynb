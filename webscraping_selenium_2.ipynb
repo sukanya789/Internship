{
 "cells": [
  {
   "cell_type": "code",
   "execution_count": 29,
   "id": "b5d8f5e5",
   "metadata": {},
   "outputs": [
    {
     "name": "stdout",
     "output_type": "stream",
     "text": [
      "Requirement already satisfied: selenium in ./opt/anaconda3/lib/python3.9/site-packages (4.8.0)\n",
      "Requirement already satisfied: certifi>=2021.10.8 in ./opt/anaconda3/lib/python3.9/site-packages (from selenium) (2021.10.8)\n",
      "Requirement already satisfied: trio-websocket~=0.9 in ./opt/anaconda3/lib/python3.9/site-packages (from selenium) (0.9.2)\n",
      "Requirement already satisfied: urllib3[socks]~=1.26 in ./opt/anaconda3/lib/python3.9/site-packages (from selenium) (1.26.9)\n",
      "Requirement already satisfied: trio~=0.17 in ./opt/anaconda3/lib/python3.9/site-packages (from selenium) (0.22.0)\n",
      "Requirement already satisfied: attrs>=19.2.0 in ./opt/anaconda3/lib/python3.9/site-packages (from trio~=0.17->selenium) (21.4.0)\n",
      "Requirement already satisfied: exceptiongroup>=1.0.0rc9 in ./opt/anaconda3/lib/python3.9/site-packages (from trio~=0.17->selenium) (1.1.0)\n",
      "Requirement already satisfied: outcome in ./opt/anaconda3/lib/python3.9/site-packages (from trio~=0.17->selenium) (1.2.0)\n",
      "Requirement already satisfied: idna in ./opt/anaconda3/lib/python3.9/site-packages (from trio~=0.17->selenium) (3.3)\n",
      "Requirement already satisfied: async-generator>=1.9 in ./opt/anaconda3/lib/python3.9/site-packages (from trio~=0.17->selenium) (1.10)\n",
      "Requirement already satisfied: sniffio in ./opt/anaconda3/lib/python3.9/site-packages (from trio~=0.17->selenium) (1.2.0)\n",
      "Requirement already satisfied: sortedcontainers in ./opt/anaconda3/lib/python3.9/site-packages (from trio~=0.17->selenium) (2.4.0)\n",
      "Requirement already satisfied: wsproto>=0.14 in ./opt/anaconda3/lib/python3.9/site-packages (from trio-websocket~=0.9->selenium) (1.2.0)\n",
      "Requirement already satisfied: PySocks!=1.5.7,<2.0,>=1.5.6 in ./opt/anaconda3/lib/python3.9/site-packages (from urllib3[socks]~=1.26->selenium) (1.7.1)\n",
      "Requirement already satisfied: h11<1,>=0.9.0 in ./opt/anaconda3/lib/python3.9/site-packages (from wsproto>=0.14->trio-websocket~=0.9->selenium) (0.14.0)\n"
     ]
    }
   ],
   "source": [
    "!pip install selenium"
   ]
  },
  {
   "cell_type": "code",
   "execution_count": 73,
   "id": "5f95b674",
   "metadata": {},
   "outputs": [],
   "source": [
    "import selenium\n",
    "import pandas as pd\n",
    "import warnings\n",
    "warnings.filterwarnings('ignore')\n",
    "from selenium.common.exceptions import StaleElementReferenceException, NoSuchElementException\n",
    "from selenium.webdriver.common.by import By\n",
    "import time"
   ]
  },
  {
   "cell_type": "code",
   "execution_count": 74,
   "id": "5cba6907",
   "metadata": {},
   "outputs": [
    {
     "name": "stdout",
     "output_type": "stream",
     "text": [
      "/Users/sukanyasemwal\n"
     ]
    }
   ],
   "source": [
    "import os\n",
    "print(os.getcwd())"
   ]
  },
  {
   "cell_type": "code",
   "execution_count": 75,
   "id": "1b2c88f1",
   "metadata": {},
   "outputs": [],
   "source": [
    "from selenium import webdriver\n",
    "from selenium.webdriver.chrome.service import Service\n",
    "\n",
    "with open('/Users/sukanyasemwal/Downloads/chromedriver_mac_arm64/chromedriver', 'rb') as f:\n",
    "    encoded_data = f.read()\n",
    "    decoded_data = encoded_data.decode('utf-8', 'ignore')\n",
    "\n",
    "driver = webdriver.Chrome(service=Service(executable_path='/Users/sukanyasemwal/Downloads/chromedriver_mac_arm64/chromedriver'))\n"
   ]
  },
  {
   "cell_type": "code",
   "execution_count": 76,
   "id": "a1384967",
   "metadata": {},
   "outputs": [],
   "source": [
    "from selenium import webdriver\n",
    "from selenium.webdriver.chrome.service import Service\n",
    "\n",
    "with open('/Users/sukanyasemwal/Downloads/chromedriver_mac_arm64/chromedriver', 'rb') as f:\n",
    "    encoded_data = f.read()\n",
    "    decoded_data = encoded_data.decode('utf-8', 'ignore')\n",
    "\n",
    "driver = webdriver.Chrome(service=Service(executable_path='/Users/sukanyasemwal/Downloads/chromedriver_mac_arm64/chromedriver'))\n"
   ]
  },
  {
   "cell_type": "code",
   "execution_count": 77,
   "id": "da2c01bd",
   "metadata": {},
   "outputs": [],
   "source": [
    "# opening the naukri page on automated browser\n",
    "driver.get(\"https://www.naukri.com/\")"
   ]
  },
  {
   "cell_type": "code",
   "execution_count": 78,
   "id": "49a90345",
   "metadata": {},
   "outputs": [],
   "source": [
    "# Entering designation and location as required in the equation\n",
    "designation=driver.find_element(By.CLASS_NAME,\"suggestor-input\")\n",
    "designation.send_keys('Data Analyst')"
   ]
  },
  {
   "cell_type": "code",
   "execution_count": 79,
   "id": "ecc1e6f9",
   "metadata": {},
   "outputs": [],
   "source": [
    "location=driver.find_element(By.XPATH,\"/html/body/div[1]/div[6]/div/div/div[5]/div/div/div/input\")\n",
    "location.send_keys('Bangalore')"
   ]
  },
  {
   "cell_type": "code",
   "execution_count": 80,
   "id": "63edb1f3",
   "metadata": {},
   "outputs": [],
   "source": [
    "search=driver.find_element(By.CLASS_NAME,\"qsbSubmit\")\n",
    "search.click()"
   ]
  },
  {
   "cell_type": "code",
   "execution_count": 81,
   "id": "c1877473",
   "metadata": {},
   "outputs": [],
   "source": [
    "job_title=[]\n",
    "job_location=[]\n",
    "company_name=[]\n",
    "experience_required=[]"
   ]
  },
  {
   "cell_type": "code",
   "execution_count": 82,
   "id": "ba65833e",
   "metadata": {},
   "outputs": [],
   "source": [
    "# scraping job title from the given page\n",
    "title_tags=driver.find_elements(By.XPATH,'//a[@class=\"title ellipsis\"]')\n",
    "for i in title_tags[0:10]:\n",
    "    title=i.text\n",
    "    job_title.append(title)\n",
    "    \n",
    "# scraping job location from the given page\n",
    "location_tags=driver.find_elements(By.XPATH,'//span[@class=\"ellipsis fleft locWdth\"]')\n",
    "for i in location_tags[0:10]:\n",
    "    location=i.text\n",
    "    job_location.append(location)\n",
    "    \n",
    "#scraping company name from the given page\n",
    "company_tags=driver.find_elements(By.XPATH,\"//a[@class='subTitle ellipsis fleft']\")\n",
    "for i in company_tags[0:10]:\n",
    "    company=i.text\n",
    "    company_name.append(company)\n",
    "    \n",
    "# scraping job experience from the given page\n",
    "experience_tags=driver.find_elements(By.XPATH,'//span[@class=\"ellipsis fleft expwdth\"]')\n",
    "for i in experience_tags[0:10]:\n",
    "    exp=i.text\n",
    "    experience_required.append(exp)"
   ]
  },
  {
   "cell_type": "code",
   "execution_count": 83,
   "id": "b7353b1f",
   "metadata": {},
   "outputs": [
    {
     "name": "stdout",
     "output_type": "stream",
     "text": [
      "10 10 10 10\n"
     ]
    }
   ],
   "source": [
    "print(len(job_title),len(job_location),len(company_name),len(experience_required))"
   ]
  },
  {
   "cell_type": "code",
   "execution_count": 84,
   "id": "b7a972a9",
   "metadata": {},
   "outputs": [
    {
     "data": {
      "text/html": [
       "<div>\n",
       "<style scoped>\n",
       "    .dataframe tbody tr th:only-of-type {\n",
       "        vertical-align: middle;\n",
       "    }\n",
       "\n",
       "    .dataframe tbody tr th {\n",
       "        vertical-align: top;\n",
       "    }\n",
       "\n",
       "    .dataframe thead th {\n",
       "        text-align: right;\n",
       "    }\n",
       "</style>\n",
       "<table border=\"1\" class=\"dataframe\">\n",
       "  <thead>\n",
       "    <tr style=\"text-align: right;\">\n",
       "      <th></th>\n",
       "      <th>Title</th>\n",
       "      <th>Location</th>\n",
       "      <th>Company_name</th>\n",
       "      <th>Experience</th>\n",
       "    </tr>\n",
       "  </thead>\n",
       "  <tbody>\n",
       "    <tr>\n",
       "      <th>0</th>\n",
       "      <td>Data Analyst- Yulu Energy</td>\n",
       "      <td>Bangalore/Bengaluru</td>\n",
       "      <td>Yulu Bikes</td>\n",
       "      <td>0-1 Yrs</td>\n",
       "    </tr>\n",
       "    <tr>\n",
       "      <th>1</th>\n",
       "      <td>Data Analyst</td>\n",
       "      <td>Bangalore/Bengaluru</td>\n",
       "      <td>Entrupy</td>\n",
       "      <td>1-3 Yrs</td>\n",
       "    </tr>\n",
       "    <tr>\n",
       "      <th>2</th>\n",
       "      <td>Data Analyst</td>\n",
       "      <td>Hybrid - Bangalore/Bengaluru, Hyderabad/Secund...</td>\n",
       "      <td>EY</td>\n",
       "      <td>5-10 Yrs</td>\n",
       "    </tr>\n",
       "    <tr>\n",
       "      <th>3</th>\n",
       "      <td>Data Analyst</td>\n",
       "      <td>Hybrid - Bangalore/Bengaluru</td>\n",
       "      <td>Allegis Group</td>\n",
       "      <td>4-7 Yrs</td>\n",
       "    </tr>\n",
       "    <tr>\n",
       "      <th>4</th>\n",
       "      <td>Required Data Analyst Off Role</td>\n",
       "      <td>Bangalore/Bengaluru</td>\n",
       "      <td>TeamLease</td>\n",
       "      <td>3-5 Yrs</td>\n",
       "    </tr>\n",
       "    <tr>\n",
       "      <th>5</th>\n",
       "      <td>Data Analyst</td>\n",
       "      <td>Bangalore/Bengaluru</td>\n",
       "      <td>Staffice Global</td>\n",
       "      <td>14-18 Yrs</td>\n",
       "    </tr>\n",
       "    <tr>\n",
       "      <th>6</th>\n",
       "      <td>Data Analyst</td>\n",
       "      <td>Bangalore/Bengaluru</td>\n",
       "      <td>What Digital Technologies</td>\n",
       "      <td>5-10 Yrs</td>\n",
       "    </tr>\n",
       "    <tr>\n",
       "      <th>7</th>\n",
       "      <td>Data Analyst</td>\n",
       "      <td>Bangalore/Bengaluru</td>\n",
       "      <td>Course5 Intelligence</td>\n",
       "      <td>1-2 Yrs</td>\n",
       "    </tr>\n",
       "    <tr>\n",
       "      <th>8</th>\n",
       "      <td>Data Analyst</td>\n",
       "      <td>Bangalore/Bengaluru</td>\n",
       "      <td>FresherMart</td>\n",
       "      <td>2-3 Yrs</td>\n",
       "    </tr>\n",
       "    <tr>\n",
       "      <th>9</th>\n",
       "      <td>Data Analyst Databricks</td>\n",
       "      <td>Bangalore/Bengaluru</td>\n",
       "      <td>Optum</td>\n",
       "      <td>4-6 Yrs</td>\n",
       "    </tr>\n",
       "  </tbody>\n",
       "</table>\n",
       "</div>"
      ],
      "text/plain": [
       "                            Title  \\\n",
       "0       Data Analyst- Yulu Energy   \n",
       "1                    Data Analyst   \n",
       "2                    Data Analyst   \n",
       "3                    Data Analyst   \n",
       "4  Required Data Analyst Off Role   \n",
       "5                    Data Analyst   \n",
       "6                    Data Analyst   \n",
       "7                    Data Analyst   \n",
       "8                    Data Analyst   \n",
       "9         Data Analyst Databricks   \n",
       "\n",
       "                                            Location  \\\n",
       "0                                Bangalore/Bengaluru   \n",
       "1                                Bangalore/Bengaluru   \n",
       "2  Hybrid - Bangalore/Bengaluru, Hyderabad/Secund...   \n",
       "3                       Hybrid - Bangalore/Bengaluru   \n",
       "4                                Bangalore/Bengaluru   \n",
       "5                                Bangalore/Bengaluru   \n",
       "6                                Bangalore/Bengaluru   \n",
       "7                                Bangalore/Bengaluru   \n",
       "8                                Bangalore/Bengaluru   \n",
       "9                                Bangalore/Bengaluru   \n",
       "\n",
       "                Company_name Experience  \n",
       "0                 Yulu Bikes    0-1 Yrs  \n",
       "1                    Entrupy    1-3 Yrs  \n",
       "2                         EY   5-10 Yrs  \n",
       "3              Allegis Group    4-7 Yrs  \n",
       "4                  TeamLease    3-5 Yrs  \n",
       "5            Staffice Global  14-18 Yrs  \n",
       "6  What Digital Technologies   5-10 Yrs  \n",
       "7       Course5 Intelligence    1-2 Yrs  \n",
       "8                FresherMart    2-3 Yrs  \n",
       "9                      Optum    4-6 Yrs  "
      ]
     },
     "execution_count": 84,
     "metadata": {},
     "output_type": "execute_result"
    }
   ],
   "source": [
    "df=pd.DataFrame({'Title':job_title,'Location':job_location,'Company_name':company_name,'Experience':experience_required})\n",
    "df"
   ]
  },
  {
   "cell_type": "markdown",
   "id": "07dc45be",
   "metadata": {},
   "source": [
    "DATA SCIENTIST"
   ]
  },
  {
   "cell_type": "code",
   "execution_count": 62,
   "id": "d643154a",
   "metadata": {},
   "outputs": [],
   "source": [
    "import selenium\n",
    "import pandas as pd\n",
    "import warnings\n",
    "warnings.filterwarnings('ignore')\n",
    "from selenium.common.exceptions import StaleElementReferenceException, NoSuchElementException\n",
    "from selenium.webdriver.common.by import By\n",
    "import time"
   ]
  },
  {
   "cell_type": "code",
   "execution_count": 63,
   "id": "94a873f3",
   "metadata": {},
   "outputs": [
    {
     "name": "stdout",
     "output_type": "stream",
     "text": [
      "/Users/sukanyasemwal\n"
     ]
    }
   ],
   "source": [
    "import os\n",
    "print(os.getcwd())"
   ]
  },
  {
   "cell_type": "code",
   "execution_count": 64,
   "id": "4e4ebfd0",
   "metadata": {},
   "outputs": [],
   "source": [
    "from selenium import webdriver\n",
    "from selenium.webdriver.chrome.service import Service\n",
    "\n",
    "with open('/Users/sukanyasemwal/Downloads/chromedriver_mac_arm64/chromedriver', 'rb') as f:\n",
    "    encoded_data = f.read()\n",
    "    decoded_data = encoded_data.decode('utf-8', 'ignore')\n",
    "\n",
    "driver = webdriver.Chrome(service=Service(executable_path='/Users/sukanyasemwal/Downloads/chromedriver_mac_arm64/chromedriver'))\n"
   ]
  },
  {
   "cell_type": "code",
   "execution_count": 65,
   "id": "ef959747",
   "metadata": {},
   "outputs": [],
   "source": [
    "# opening the naukri page on automated browser\n",
    "driver.get(\"https://www.naukri.com/\")"
   ]
  },
  {
   "cell_type": "code",
   "execution_count": 66,
   "id": "ac2383f1",
   "metadata": {},
   "outputs": [],
   "source": [
    "# Entering designation and location as required in the equation\n",
    "designation=driver.find_element(By.CLASS_NAME,\"suggestor-input\")\n",
    "designation.send_keys('Data Scientist')"
   ]
  },
  {
   "cell_type": "code",
   "execution_count": 67,
   "id": "6128cbd4",
   "metadata": {},
   "outputs": [],
   "source": [
    "location=driver.find_element(By.XPATH,\"/html/body/div[1]/div[6]/div/div/div[5]/div/div/div/input\")\n",
    "location.send_keys('Bangalore')"
   ]
  },
  {
   "cell_type": "code",
   "execution_count": 68,
   "id": "5448cfcb",
   "metadata": {},
   "outputs": [],
   "source": [
    "search=driver.find_element(By.XPATH,\"/html/body/div[1]/div[6]/div/div/div[6]\")\n",
    "search.click()"
   ]
  },
  {
   "cell_type": "code",
   "execution_count": 69,
   "id": "17821d27",
   "metadata": {},
   "outputs": [],
   "source": [
    "job_title=[]\n",
    "job_location=[]\n",
    "company_name=[]\n",
    "experience_required=[]"
   ]
  },
  {
   "cell_type": "code",
   "execution_count": 70,
   "id": "323083db",
   "metadata": {},
   "outputs": [],
   "source": [
    "# scraping job title from the given page\n",
    "title_tags=driver.find_elements(By.XPATH,'//a[@class=\"title ellipsis\"]')\n",
    "for i in title_tags[0:10]:\n",
    "    title=i.text\n",
    "    job_title.append(title)\n",
    "    \n",
    "# scraping job location from the given page\n",
    "location_tags=driver.find_elements(By.XPATH,'//span[@class=\"ellipsis fleft locWdth\"]')\n",
    "for i in location_tags[0:10]:\n",
    "    location=i.text\n",
    "    job_location.append(location)\n",
    "    \n",
    "#scraping company name from the given page\n",
    "company_tags=driver.find_elements(By.XPATH,\"//a[@class='subTitle ellipsis fleft']\")\n",
    "for i in company_tags[0:10]:\n",
    "    company=i.text\n",
    "    company_name.append(company)\n",
    "    \n",
    "# scraping job experience from the given page\n",
    "experience_tags=driver.find_elements(By.XPATH,'//span[@class=\"ellipsis fleft expwdth\"]')\n",
    "for i in experience_tags[0:10]:\n",
    "    exp=i.text\n",
    "    experience_required.append(exp)"
   ]
  },
  {
   "cell_type": "code",
   "execution_count": 71,
   "id": "2c756cbf",
   "metadata": {},
   "outputs": [
    {
     "name": "stdout",
     "output_type": "stream",
     "text": [
      "10 10 10 10\n"
     ]
    }
   ],
   "source": [
    "print(len(job_title),len(job_location),len(company_name),len(experience_required))"
   ]
  },
  {
   "cell_type": "code",
   "execution_count": 72,
   "id": "f2c8e224",
   "metadata": {},
   "outputs": [
    {
     "data": {
      "text/html": [
       "<div>\n",
       "<style scoped>\n",
       "    .dataframe tbody tr th:only-of-type {\n",
       "        vertical-align: middle;\n",
       "    }\n",
       "\n",
       "    .dataframe tbody tr th {\n",
       "        vertical-align: top;\n",
       "    }\n",
       "\n",
       "    .dataframe thead th {\n",
       "        text-align: right;\n",
       "    }\n",
       "</style>\n",
       "<table border=\"1\" class=\"dataframe\">\n",
       "  <thead>\n",
       "    <tr style=\"text-align: right;\">\n",
       "      <th></th>\n",
       "      <th>Title</th>\n",
       "      <th>Location</th>\n",
       "      <th>Company_name</th>\n",
       "      <th>Experience</th>\n",
       "    </tr>\n",
       "  </thead>\n",
       "  <tbody>\n",
       "    <tr>\n",
       "      <th>0</th>\n",
       "      <td>Data Science Specialist</td>\n",
       "      <td>Bangalore/Bengaluru, Kolkata, Mumbai, Hyderaba...</td>\n",
       "      <td>Accenture</td>\n",
       "      <td>2-4 Yrs</td>\n",
       "    </tr>\n",
       "    <tr>\n",
       "      <th>1</th>\n",
       "      <td>Analystics &amp; Modeling Specialist</td>\n",
       "      <td>Bangalore/Bengaluru, Kolkata, Mumbai, Hyderaba...</td>\n",
       "      <td>Accenture</td>\n",
       "      <td>6-8 Yrs</td>\n",
       "    </tr>\n",
       "    <tr>\n",
       "      <th>2</th>\n",
       "      <td>Data Scientist</td>\n",
       "      <td>Hybrid - Bangalore/Bengaluru, Kolkata, Hyderab...</td>\n",
       "      <td>Cognizant</td>\n",
       "      <td>8-10 Yrs</td>\n",
       "    </tr>\n",
       "    <tr>\n",
       "      <th>3</th>\n",
       "      <td>Sr. Data scientist</td>\n",
       "      <td>Bangalore/Bengaluru, Hyderabad/Secunderabad, M...</td>\n",
       "      <td>Tata Consultancy Services (TCS)</td>\n",
       "      <td>7-12 Yrs</td>\n",
       "    </tr>\n",
       "    <tr>\n",
       "      <th>4</th>\n",
       "      <td>Data Scientist</td>\n",
       "      <td>Bangalore/Bengaluru, Noida, Kolkata, Mumbai, H...</td>\n",
       "      <td>Capgemini</td>\n",
       "      <td>9-14 Yrs</td>\n",
       "    </tr>\n",
       "    <tr>\n",
       "      <th>5</th>\n",
       "      <td>Lead Data Scientist</td>\n",
       "      <td>Bangalore/Bengaluru, Noida, Hyderabad/Secunder...</td>\n",
       "      <td>Birlasoft</td>\n",
       "      <td>8-12 Yrs</td>\n",
       "    </tr>\n",
       "    <tr>\n",
       "      <th>6</th>\n",
       "      <td>Data Scientist</td>\n",
       "      <td>Bangalore/Bengaluru, Noida, Indore, Pune, Gurg...</td>\n",
       "      <td>Impetus Technologies</td>\n",
       "      <td>4-8 Yrs</td>\n",
       "    </tr>\n",
       "    <tr>\n",
       "      <th>7</th>\n",
       "      <td>Expert Data Scientist</td>\n",
       "      <td>Bangalore/Bengaluru, Mumbai</td>\n",
       "      <td>UPL Limited</td>\n",
       "      <td>8-10 Yrs</td>\n",
       "    </tr>\n",
       "    <tr>\n",
       "      <th>8</th>\n",
       "      <td>Data Scientist Architect</td>\n",
       "      <td>Temp. WFH - Bangalore/Bengaluru, Hyderabad/Sec...</td>\n",
       "      <td>Brace Infotech</td>\n",
       "      <td>11-20 Yrs</td>\n",
       "    </tr>\n",
       "    <tr>\n",
       "      <th>9</th>\n",
       "      <td>Lead Artificial Intelligence Specialist</td>\n",
       "      <td>Bangalore/Bengaluru</td>\n",
       "      <td>Baker Hughes</td>\n",
       "      <td>5-10 Yrs</td>\n",
       "    </tr>\n",
       "  </tbody>\n",
       "</table>\n",
       "</div>"
      ],
      "text/plain": [
       "                                     Title  \\\n",
       "0                  Data Science Specialist   \n",
       "1         Analystics & Modeling Specialist   \n",
       "2                           Data Scientist   \n",
       "3                       Sr. Data scientist   \n",
       "4                           Data Scientist   \n",
       "5                      Lead Data Scientist   \n",
       "6                           Data Scientist   \n",
       "7                    Expert Data Scientist   \n",
       "8                 Data Scientist Architect   \n",
       "9  Lead Artificial Intelligence Specialist   \n",
       "\n",
       "                                            Location  \\\n",
       "0  Bangalore/Bengaluru, Kolkata, Mumbai, Hyderaba...   \n",
       "1  Bangalore/Bengaluru, Kolkata, Mumbai, Hyderaba...   \n",
       "2  Hybrid - Bangalore/Bengaluru, Kolkata, Hyderab...   \n",
       "3  Bangalore/Bengaluru, Hyderabad/Secunderabad, M...   \n",
       "4  Bangalore/Bengaluru, Noida, Kolkata, Mumbai, H...   \n",
       "5  Bangalore/Bengaluru, Noida, Hyderabad/Secunder...   \n",
       "6  Bangalore/Bengaluru, Noida, Indore, Pune, Gurg...   \n",
       "7                        Bangalore/Bengaluru, Mumbai   \n",
       "8  Temp. WFH - Bangalore/Bengaluru, Hyderabad/Sec...   \n",
       "9                                Bangalore/Bengaluru   \n",
       "\n",
       "                      Company_name Experience  \n",
       "0                        Accenture    2-4 Yrs  \n",
       "1                        Accenture    6-8 Yrs  \n",
       "2                        Cognizant   8-10 Yrs  \n",
       "3  Tata Consultancy Services (TCS)   7-12 Yrs  \n",
       "4                        Capgemini   9-14 Yrs  \n",
       "5                        Birlasoft   8-12 Yrs  \n",
       "6             Impetus Technologies    4-8 Yrs  \n",
       "7                      UPL Limited   8-10 Yrs  \n",
       "8                   Brace Infotech  11-20 Yrs  \n",
       "9                     Baker Hughes   5-10 Yrs  "
      ]
     },
     "execution_count": 72,
     "metadata": {},
     "output_type": "execute_result"
    }
   ],
   "source": [
    "df=pd.DataFrame({'Title':job_title,'Location':job_location,'Company_name':company_name,'Experience':experience_required})\n",
    "df"
   ]
  },
  {
   "cell_type": "markdown",
   "id": "1a65ab28",
   "metadata": {},
   "source": [
    "DATA ACIENTIST-SALLERY"
   ]
  },
  {
   "cell_type": "code",
   "execution_count": 1,
   "id": "6919d583",
   "metadata": {},
   "outputs": [],
   "source": [
    "import selenium\n",
    "import pandas as pd\n",
    "import warnings\n",
    "warnings.filterwarnings('ignore')\n",
    "from selenium.common.exceptions import StaleElementReferenceException, NoSuchElementException\n",
    "from selenium.webdriver.common.by import By\n",
    "import time"
   ]
  },
  {
   "cell_type": "code",
   "execution_count": 2,
   "id": "d388517e",
   "metadata": {},
   "outputs": [
    {
     "name": "stdout",
     "output_type": "stream",
     "text": [
      "/Users/sukanyasemwal\n"
     ]
    }
   ],
   "source": [
    "import os\n",
    "print(os.getcwd())"
   ]
  },
  {
   "cell_type": "code",
   "execution_count": 11,
   "id": "5fefe0a8",
   "metadata": {},
   "outputs": [],
   "source": [
    "from selenium import webdriver\n",
    "from selenium.webdriver.chrome.service import Service\n",
    "\n",
    "with open('/Users/sukanyasemwal/Downloads/chromedriver_mac_arm64/chromedriver', 'rb') as f:\n",
    "    encoded_data = f.read()\n",
    "    decoded_data = encoded_data.decode('utf-8', 'ignore')\n",
    "\n",
    "driver = webdriver.Chrome(service=Service(executable_path='/Users/sukanyasemwal/Downloads/chromedriver_mac_arm64/chromedriver'))"
   ]
  },
  {
   "cell_type": "code",
   "execution_count": 12,
   "id": "c66e09fa",
   "metadata": {},
   "outputs": [],
   "source": [
    "# opening the naukri page on automated browser\n",
    "driver.get(\"https://www.naukri.com/\")"
   ]
  },
  {
   "cell_type": "code",
   "execution_count": 13,
   "id": "49df29d0",
   "metadata": {},
   "outputs": [],
   "source": [
    "# Entering designation and location as required in the equation\n",
    "designation=driver.find_element(By.CLASS_NAME,\"suggestor-input\")\n",
    "designation.send_keys('Data Scientist')"
   ]
  },
  {
   "cell_type": "code",
   "execution_count": 14,
   "id": "ce15a630",
   "metadata": {},
   "outputs": [],
   "source": [
    "location=driver.find_element(By.XPATH,\"/html/body/div[1]/div[6]/div/div/div[5]/div/div/div/input\")\n",
    "location.send_keys('Delhi-NCR')"
   ]
  },
  {
   "cell_type": "code",
   "execution_count": 15,
   "id": "8e408e6a",
   "metadata": {},
   "outputs": [],
   "source": [
    "search=driver.find_element(By.XPATH,\"/html/body/div[1]/div[6]/div/div/div[6]\")\n",
    "search.click()"
   ]
  },
  {
   "cell_type": "code",
   "execution_count": 20,
   "id": "76699c84",
   "metadata": {},
   "outputs": [],
   "source": [
    "salary=driver.find_element(By.XPATH,\"/html/body/div[1]/div[4]/div/div/section[1]/div[2]/div[5]/div[1]/span\")\n",
    "salary.click()"
   ]
  },
  {
   "cell_type": "code",
   "execution_count": 22,
   "id": "84b3cf17",
   "metadata": {},
   "outputs": [],
   "source": [
    "lakh3to6_checkbox = salary.find_element(By.XPATH,\"/html/body/div[1]/div[4]/div/div/section[1]/div[2]/div[5]/div[2]/div[2]/label/p/span[1]\")\n",
    "lakh3to6_checkbox.click()"
   ]
  },
  {
   "cell_type": "code",
   "execution_count": 23,
   "id": "b76d7fd0",
   "metadata": {},
   "outputs": [],
   "source": [
    "job_title=[]\n",
    "job_location=[]\n",
    "company_name=[]\n",
    "experience_required=[]"
   ]
  },
  {
   "cell_type": "code",
   "execution_count": 24,
   "id": "87620837",
   "metadata": {},
   "outputs": [],
   "source": [
    "# scraping job title from the given page\n",
    "title_tags=driver.find_elements(By.XPATH,'//a[@class=\"title ellipsis\"]')\n",
    "for i in title_tags[0:10]:\n",
    "    title=i.text\n",
    "    job_title.append(title)\n",
    "    \n",
    "# scraping job location from the given page\n",
    "location_tags=driver.find_elements(By.XPATH,'//span[@class=\"ellipsis fleft locWdth\"]')\n",
    "for i in location_tags[0:10]:\n",
    "    location=i.text\n",
    "    job_location.append(location)\n",
    "    \n",
    "#scraping company name from the given page\n",
    "company_tags=driver.find_elements(By.XPATH,\"//a[@class='subTitle ellipsis fleft']\")\n",
    "for i in company_tags[0:10]:\n",
    "    company=i.text\n",
    "    company_name.append(company)\n",
    "    \n",
    "# scraping job experience from the given page\n",
    "experience_tags=driver.find_elements(By.XPATH,'//span[@class=\"ellipsis fleft expwdth\"]')\n",
    "for i in experience_tags[0:10]:\n",
    "    exp=i.text\n",
    "    experience_required.append(exp)"
   ]
  },
  {
   "cell_type": "code",
   "execution_count": 25,
   "id": "b9db0071",
   "metadata": {},
   "outputs": [
    {
     "name": "stdout",
     "output_type": "stream",
     "text": [
      "10 10 10 10\n"
     ]
    }
   ],
   "source": [
    "print(len(job_title),len(job_location),len(company_name),len(experience_required))"
   ]
  },
  {
   "cell_type": "code",
   "execution_count": 26,
   "id": "bb7db049",
   "metadata": {},
   "outputs": [
    {
     "data": {
      "text/html": [
       "<div>\n",
       "<style scoped>\n",
       "    .dataframe tbody tr th:only-of-type {\n",
       "        vertical-align: middle;\n",
       "    }\n",
       "\n",
       "    .dataframe tbody tr th {\n",
       "        vertical-align: top;\n",
       "    }\n",
       "\n",
       "    .dataframe thead th {\n",
       "        text-align: right;\n",
       "    }\n",
       "</style>\n",
       "<table border=\"1\" class=\"dataframe\">\n",
       "  <thead>\n",
       "    <tr style=\"text-align: right;\">\n",
       "      <th></th>\n",
       "      <th>Title</th>\n",
       "      <th>Location</th>\n",
       "      <th>Company_name</th>\n",
       "      <th>Experience</th>\n",
       "    </tr>\n",
       "  </thead>\n",
       "  <tbody>\n",
       "    <tr>\n",
       "      <th>0</th>\n",
       "      <td>Data Science Specialist</td>\n",
       "      <td>Kolkata, Mumbai, Hyderabad/Secunderabad, Pune,...</td>\n",
       "      <td>Accenture</td>\n",
       "      <td>2-4 Yrs</td>\n",
       "    </tr>\n",
       "    <tr>\n",
       "      <th>1</th>\n",
       "      <td>Sr. Associate - QR Strats Analytics</td>\n",
       "      <td>Mumbai</td>\n",
       "      <td>Morgan Stanley</td>\n",
       "      <td>2-6 Yrs</td>\n",
       "    </tr>\n",
       "    <tr>\n",
       "      <th>2</th>\n",
       "      <td>Data Scientist</td>\n",
       "      <td>Bangalore/Bengaluru</td>\n",
       "      <td>Capgemini</td>\n",
       "      <td>3-5 Yrs</td>\n",
       "    </tr>\n",
       "    <tr>\n",
       "      <th>3</th>\n",
       "      <td>Senior Data Science and Analytics Strategy Con...</td>\n",
       "      <td>Bangalore/Bengaluru</td>\n",
       "      <td>Wells Fargo</td>\n",
       "      <td>5-7 Yrs</td>\n",
       "    </tr>\n",
       "    <tr>\n",
       "      <th>4</th>\n",
       "      <td>Smart Dispatcher</td>\n",
       "      <td>Bangalore/Bengaluru</td>\n",
       "      <td>Capgemini</td>\n",
       "      <td>6-9 Yrs</td>\n",
       "    </tr>\n",
       "    <tr>\n",
       "      <th>5</th>\n",
       "      <td>Data Scientist data Analyst</td>\n",
       "      <td>Kolkata, Hyderabad/Secunderabad, Pune, Ahmedab...</td>\n",
       "      <td>Smark Laser Automation</td>\n",
       "      <td>0-5 Yrs</td>\n",
       "    </tr>\n",
       "    <tr>\n",
       "      <th>6</th>\n",
       "      <td>Data Science/ ML freshers</td>\n",
       "      <td>Mumbai, Hyderabad/Secunderabad, Pune, Chennai,...</td>\n",
       "      <td>Cliqhr Recruitment Services</td>\n",
       "      <td>0-1 Yrs</td>\n",
       "    </tr>\n",
       "    <tr>\n",
       "      <th>7</th>\n",
       "      <td>MACHINE LEARNING / DATA SCIENCE TRAINER</td>\n",
       "      <td>Bangalore/Bengaluru</td>\n",
       "      <td>Ethnotech Academy</td>\n",
       "      <td>2-5 Yrs</td>\n",
       "    </tr>\n",
       "    <tr>\n",
       "      <th>8</th>\n",
       "      <td>Data Science Professional</td>\n",
       "      <td>Bangalore/Bengaluru</td>\n",
       "      <td>Infosys</td>\n",
       "      <td>4-6 Yrs</td>\n",
       "    </tr>\n",
       "    <tr>\n",
       "      <th>9</th>\n",
       "      <td>Data Scientist</td>\n",
       "      <td>Bangalore/Bengaluru</td>\n",
       "      <td>Infosys</td>\n",
       "      <td>3-5 Yrs</td>\n",
       "    </tr>\n",
       "  </tbody>\n",
       "</table>\n",
       "</div>"
      ],
      "text/plain": [
       "                                               Title  \\\n",
       "0                            Data Science Specialist   \n",
       "1                Sr. Associate - QR Strats Analytics   \n",
       "2                                     Data Scientist   \n",
       "3  Senior Data Science and Analytics Strategy Con...   \n",
       "4                                   Smart Dispatcher   \n",
       "5                        Data Scientist data Analyst   \n",
       "6                          Data Science/ ML freshers   \n",
       "7            MACHINE LEARNING / DATA SCIENCE TRAINER   \n",
       "8                          Data Science Professional   \n",
       "9                                     Data Scientist   \n",
       "\n",
       "                                            Location  \\\n",
       "0  Kolkata, Mumbai, Hyderabad/Secunderabad, Pune,...   \n",
       "1                                             Mumbai   \n",
       "2                                Bangalore/Bengaluru   \n",
       "3                                Bangalore/Bengaluru   \n",
       "4                                Bangalore/Bengaluru   \n",
       "5  Kolkata, Hyderabad/Secunderabad, Pune, Ahmedab...   \n",
       "6  Mumbai, Hyderabad/Secunderabad, Pune, Chennai,...   \n",
       "7                                Bangalore/Bengaluru   \n",
       "8                                Bangalore/Bengaluru   \n",
       "9                                Bangalore/Bengaluru   \n",
       "\n",
       "                  Company_name Experience  \n",
       "0                    Accenture    2-4 Yrs  \n",
       "1               Morgan Stanley    2-6 Yrs  \n",
       "2                    Capgemini    3-5 Yrs  \n",
       "3                  Wells Fargo    5-7 Yrs  \n",
       "4                    Capgemini    6-9 Yrs  \n",
       "5       Smark Laser Automation    0-5 Yrs  \n",
       "6  Cliqhr Recruitment Services    0-1 Yrs  \n",
       "7            Ethnotech Academy    2-5 Yrs  \n",
       "8                      Infosys    4-6 Yrs  \n",
       "9                      Infosys    3-5 Yrs  "
      ]
     },
     "execution_count": 26,
     "metadata": {},
     "output_type": "execute_result"
    }
   ],
   "source": [
    "df=pd.DataFrame({'Title':job_title,'Location':job_location,'Company_name':company_name,'Experience':experience_required})\n",
    "df"
   ]
  },
  {
   "cell_type": "markdown",
   "id": "c4194cb4",
   "metadata": {},
   "source": [
    "FLIPKART-SUNGLASSES"
   ]
  },
  {
   "cell_type": "code",
   "execution_count": 1,
   "id": "ec1eb7af",
   "metadata": {},
   "outputs": [],
   "source": [
    "import selenium\n",
    "import pandas as pd\n",
    "import warnings\n",
    "warnings.filterwarnings('ignore')\n",
    "from selenium.common.exceptions import StaleElementReferenceException, NoSuchElementException\n",
    "from selenium.webdriver.common.by import By\n",
    "import time"
   ]
  },
  {
   "cell_type": "code",
   "execution_count": 2,
   "id": "e62b6488",
   "metadata": {},
   "outputs": [
    {
     "name": "stdout",
     "output_type": "stream",
     "text": [
      "/Users/sukanyasemwal\n"
     ]
    }
   ],
   "source": [
    "import os\n",
    "print(os.getcwd())"
   ]
  },
  {
   "cell_type": "code",
   "execution_count": 3,
   "id": "6261718c",
   "metadata": {},
   "outputs": [],
   "source": [
    "from selenium import webdriver\n",
    "from selenium.webdriver.chrome.service import Service\n",
    "\n",
    "with open('/Users/sukanyasemwal/Downloads/chromedriver_mac_arm64/chromedriver', 'rb') as f:\n",
    "    encoded_data = f.read()\n",
    "    decoded_data = encoded_data.decode('utf-8', 'ignore')\n",
    "\n",
    "driver = webdriver.Chrome(service=Service(executable_path='/Users/sukanyasemwal/Downloads/chromedriver_mac_arm64/chromedriver'))"
   ]
  },
  {
   "cell_type": "code",
   "execution_count": 4,
   "id": "04c15a92",
   "metadata": {},
   "outputs": [],
   "source": [
    "# opening the flipkart page on automated browser\n",
    "driver.get(\"https://www.flipkart.com/\")"
   ]
  },
  {
   "cell_type": "code",
   "execution_count": 5,
   "id": "7f05bbfe",
   "metadata": {},
   "outputs": [],
   "source": [
    "search=driver.find_element(By.XPATH,\"/html/body/div/div/div[1]/div[1]/div[2]/div[2]/form/div/div/input\")\n",
    "search.send_keys(\"sunglasses\")\n",
    "search.submit()"
   ]
  },
  {
   "cell_type": "code",
   "execution_count": 6,
   "id": "7c60e43e",
   "metadata": {},
   "outputs": [],
   "source": [
    "brand=[]\n",
    "description=[]\n",
    "price=[]"
   ]
  },
  {
   "cell_type": "code",
   "execution_count": 7,
   "id": "415f792d",
   "metadata": {},
   "outputs": [
    {
     "name": "stdout",
     "output_type": "stream",
     "text": [
      "The search result element was not found or is not clickable.\n"
     ]
    }
   ],
   "source": [
    "brand_tags = []\n",
    "start = 0\n",
    "end = 3\n",
    "for page in range(start, end):\n",
    "\n",
    "    # navigate to the page\n",
    "    url = f'https://www.flipkart.com/search?q=sunglasses&otracker=search&otracker1=search&marketplace=FLIPKART&as-show=on&as=off&page=1'\n",
    "    driver.get(url)\n",
    "    \n",
    "    # scraping brand title from the given page\n",
    "    brands = driver.find_elements(By.XPATH, '//div[@class=\"_2WkVRV\"]')\n",
    "    for i in brands:\n",
    "        brand_tags.append(i.text)\n",
    "\n",
    "\n",
    "\n",
    "description_tags=[]\n",
    "start=0\n",
    "end=3\n",
    "for page in range(start,end):\n",
    "    \n",
    "    # scraping product description from the given page\n",
    "    description=driver.find_elements(By.XPATH,'//a[@class=\"IRpwTa\"]')\n",
    "    for i in description:\n",
    "        description_tags.append(i.text)\n",
    "    \n",
    "    \n",
    "price_tags=[]\n",
    "start=0\n",
    "end=3\n",
    "for page in range(start,end):\n",
    "\n",
    "    # scraping price from the given page\n",
    "    price=driver.find_elements(By.XPATH,\"//a[@class='subTitle ellipsis fleft']\")\n",
    "    for i in price:\n",
    "        price_tags.append(i.text)\n",
    "\n",
    "try:\n",
    "    search_results = driver.find_element_by_xpath(\"//a[@class='ge_49M']\")\n",
    "    search_results.click()\n",
    "except AttributeError:\n",
    "    print(\"The search result element was not found or is not clickable.\")\n",
    "\n"
   ]
  },
  {
   "cell_type": "code",
   "execution_count": 8,
   "id": "af9b02c2",
   "metadata": {},
   "outputs": [],
   "source": [
    "driver.quit()"
   ]
  },
  {
   "cell_type": "markdown",
   "id": "4a244d46",
   "metadata": {},
   "source": [
    "I-PHONE REVIEW"
   ]
  },
  {
   "cell_type": "code",
   "execution_count": 9,
   "id": "f241500f",
   "metadata": {},
   "outputs": [],
   "source": [
    "import selenium\n",
    "import warnings\n",
    "warnings.filterwarnings('ignore')\n",
    "from selenium.common.exceptions import StaleElementReferenceException, NoSuchElementException\n",
    "from selenium.webdriver.common.by import By\n",
    "import time"
   ]
  },
  {
   "cell_type": "code",
   "execution_count": 10,
   "id": "c1ab7f07",
   "metadata": {},
   "outputs": [
    {
     "name": "stdout",
     "output_type": "stream",
     "text": [
      "/Users/sukanyasemwal\n"
     ]
    }
   ],
   "source": [
    "import os\n",
    "print(os.getcwd())"
   ]
  },
  {
   "cell_type": "code",
   "execution_count": 11,
   "id": "33f13dbe",
   "metadata": {},
   "outputs": [],
   "source": [
    "from selenium import webdriver\n",
    "from selenium.webdriver.chrome.service import Service\n",
    "from selenium.webdriver.support.ui import WebDriverWait\n",
    "from selenium.webdriver.support import expected_conditions as EC\n",
    "\n",
    "\n",
    "with open('/Users/sukanyasemwal/Downloads/chromedriver_mac_arm64/chromedriver', 'rb') as f:\n",
    "    encoded_data = f.read()\n",
    "    decoded_data = encoded_data.decode('utf-8', 'ignore')\n",
    "\n",
    "driver = webdriver.Chrome(service=Service(executable_path='/Users/sukanyasemwal/Downloads/chromedriver_mac_arm64/chromedriver'))"
   ]
  },
  {
   "cell_type": "code",
   "execution_count": 12,
   "id": "4ccbb36a",
   "metadata": {},
   "outputs": [],
   "source": [
    "# navigate to the url\n",
    "url = 'https://www.flipkart.com/apple-iphone-11-black-64-gb/product-reviews/itm4e5041ba101fd?pid=MOBFWQ6BXGJCEYNY&lid=LSTMOBFWQ6BXGJCEYNYZXSHRJ&market'\n",
    "driver.get(url)\n"
   ]
  },
  {
   "cell_type": "code",
   "execution_count": 15,
   "id": "6ff39f67",
   "metadata": {},
   "outputs": [],
   "source": [
    "try:\n",
    "    # Wait for element with class \"_2KpZ6l\" to be present on the page\n",
    "    element = WebDriverWait(driver, 10).until(\n",
    "        EC.presence_of_element_located((By.XPATH, '//*[@class=\"_2KpZ6l\"]'))\n",
    "    )\n",
    "    \n",
    "    # Click the \"X\" button using an absolute XPath expression\n",
    "    driver.find_element(By.XPATH, '//*[@id=\"root\"]/div[1]/div/div/div/div[1]/div[1]/button/span[1]')\\\n",
    "          .click()\n",
    "    \n",
    "except:\n",
    "    # Ignore exceptions if the element is not found\n",
    "    pass"
   ]
  },
  {
   "cell_type": "code",
   "execution_count": 16,
   "id": "ed5e8ae7",
   "metadata": {},
   "outputs": [],
   "source": [
    "ratings = []\n",
    "summaries = []\n",
    "reviews = []"
   ]
  },
  {
   "cell_type": "code",
   "execution_count": 21,
   "id": "c545d3ef",
   "metadata": {},
   "outputs": [
    {
     "ename": "TimeoutException",
     "evalue": "Message: \nStacktrace:\n0   chromedriver                        0x00000001030211c0 chromedriver + 4248000\n1   chromedriver                        0x0000000102fa1dc0 chromedriver + 3726784\n2   chromedriver                        0x0000000102c56ec4 chromedriver + 274116\n3   chromedriver                        0x0000000102c92be4 chromedriver + 519140\n4   chromedriver                        0x0000000102cce054 chromedriver + 761940\n5   chromedriver                        0x0000000102c85200 chromedriver + 463360\n6   chromedriver                        0x0000000102c86318 chromedriver + 467736\n7   chromedriver                        0x0000000102fef060 chromedriver + 4042848\n8   chromedriver                        0x0000000102ff38a4 chromedriver + 4061348\n9   chromedriver                        0x0000000102ffb3d0 chromedriver + 4092880\n10  chromedriver                        0x0000000102ff46e4 chromedriver + 4064996\n11  chromedriver                        0x0000000102fca0fc chromedriver + 3891452\n12  chromedriver                        0x0000000103014a64 chromedriver + 4196964\n13  chromedriver                        0x0000000103014bb8 chromedriver + 4197304\n14  chromedriver                        0x0000000103028650 chromedriver + 4277840\n15  libsystem_pthread.dylib             0x000000018b40a06c _pthread_start + 148\n16  libsystem_pthread.dylib             0x000000018b404e2c thread_start + 8\n",
     "output_type": "error",
     "traceback": [
      "\u001b[0;31m---------------------------------------------------------------------------\u001b[0m",
      "\u001b[0;31mTimeoutException\u001b[0m                          Traceback (most recent call last)",
      "Input \u001b[0;32mIn [21]\u001b[0m, in \u001b[0;36m<cell line: 1>\u001b[0;34m()\u001b[0m\n\u001b[1;32m      1\u001b[0m \u001b[38;5;28;01mwhile\u001b[39;00m \u001b[38;5;28mlen\u001b[39m(reviews) \u001b[38;5;241m<\u001b[39m \u001b[38;5;241m100\u001b[39m:\n\u001b[1;32m      2\u001b[0m     \u001b[38;5;66;03m# Wait for the reviews to load\u001b[39;00m\n\u001b[0;32m----> 3\u001b[0m     element \u001b[38;5;241m=\u001b[39m \u001b[43mWebDriverWait\u001b[49m\u001b[43m(\u001b[49m\u001b[43mdriver\u001b[49m\u001b[43m,\u001b[49m\u001b[43m \u001b[49m\u001b[38;5;241;43m40\u001b[39;49m\u001b[43m)\u001b[49m\u001b[38;5;241;43m.\u001b[39;49m\u001b[43muntil\u001b[49m\u001b[43m(\u001b[49m\n\u001b[1;32m      4\u001b[0m \u001b[43m        \u001b[49m\u001b[43mEC\u001b[49m\u001b[38;5;241;43m.\u001b[39;49m\u001b[43mpresence_of_element_located\u001b[49m\u001b[43m(\u001b[49m\u001b[43m(\u001b[49m\u001b[43mBy\u001b[49m\u001b[38;5;241;43m.\u001b[39;49m\u001b[43mXPATH\u001b[49m\u001b[43m,\u001b[49m\u001b[43m \u001b[49m\u001b[38;5;124;43m'\u001b[39;49m\u001b[38;5;124;43m//div[@class=\u001b[39;49m\u001b[38;5;124;43m\"\u001b[39;49m\u001b[38;5;124;43m_2xg6Ul\u001b[39;49m\u001b[38;5;124;43m\"\u001b[39;49m\u001b[38;5;124;43m]\u001b[39;49m\u001b[38;5;124;43m'\u001b[39;49m\u001b[43m)\u001b[49m\u001b[43m)\u001b[49m\n\u001b[1;32m      5\u001b[0m \u001b[43m    \u001b[49m\u001b[43m)\u001b[49m\n\u001b[1;32m      7\u001b[0m     \u001b[38;5;66;03m# Scrape the reviews on the page\u001b[39;00m\n\u001b[1;32m      8\u001b[0m     rating_tags \u001b[38;5;241m=\u001b[39m driver\u001b[38;5;241m.\u001b[39mfind_elements(By\u001b[38;5;241m.\u001b[39mXPATH, \u001b[38;5;124m'\u001b[39m\u001b[38;5;124m//div[@class=\u001b[39m\u001b[38;5;124m\"\u001b[39m\u001b[38;5;124m_3LWZlK _1BLPMq\u001b[39m\u001b[38;5;124m\"\u001b[39m\u001b[38;5;124m]\u001b[39m\u001b[38;5;124m'\u001b[39m)\n",
      "File \u001b[0;32m~/opt/anaconda3/lib/python3.9/site-packages/selenium/webdriver/support/wait.py:95\u001b[0m, in \u001b[0;36mWebDriverWait.until\u001b[0;34m(self, method, message)\u001b[0m\n\u001b[1;32m     93\u001b[0m     \u001b[38;5;28;01mif\u001b[39;00m time\u001b[38;5;241m.\u001b[39mmonotonic() \u001b[38;5;241m>\u001b[39m end_time:\n\u001b[1;32m     94\u001b[0m         \u001b[38;5;28;01mbreak\u001b[39;00m\n\u001b[0;32m---> 95\u001b[0m \u001b[38;5;28;01mraise\u001b[39;00m TimeoutException(message, screen, stacktrace)\n",
      "\u001b[0;31mTimeoutException\u001b[0m: Message: \nStacktrace:\n0   chromedriver                        0x00000001030211c0 chromedriver + 4248000\n1   chromedriver                        0x0000000102fa1dc0 chromedriver + 3726784\n2   chromedriver                        0x0000000102c56ec4 chromedriver + 274116\n3   chromedriver                        0x0000000102c92be4 chromedriver + 519140\n4   chromedriver                        0x0000000102cce054 chromedriver + 761940\n5   chromedriver                        0x0000000102c85200 chromedriver + 463360\n6   chromedriver                        0x0000000102c86318 chromedriver + 467736\n7   chromedriver                        0x0000000102fef060 chromedriver + 4042848\n8   chromedriver                        0x0000000102ff38a4 chromedriver + 4061348\n9   chromedriver                        0x0000000102ffb3d0 chromedriver + 4092880\n10  chromedriver                        0x0000000102ff46e4 chromedriver + 4064996\n11  chromedriver                        0x0000000102fca0fc chromedriver + 3891452\n12  chromedriver                        0x0000000103014a64 chromedriver + 4196964\n13  chromedriver                        0x0000000103014bb8 chromedriver + 4197304\n14  chromedriver                        0x0000000103028650 chromedriver + 4277840\n15  libsystem_pthread.dylib             0x000000018b40a06c _pthread_start + 148\n16  libsystem_pthread.dylib             0x000000018b404e2c thread_start + 8\n"
     ]
    }
   ],
   "source": [
    "while len(reviews) < 100:\n",
    "    # Wait for the reviews to load\n",
    "    element = WebDriverWait(driver, 40).until(\n",
    "        EC.presence_of_element_located((By.XPATH, '//div[@class=\"_2xg6Ul\"]'))\n",
    "    )\n",
    "    \n",
    "    # Scrape the reviews on the page\n",
    "    rating_tags = driver.find_elements(By.XPATH, '//div[@class=\"_3LWZlK _1BLPMq\"]')\n",
    "    summary_tags = driver.find_elements(By.XPATH, '//p[@class=\"_2-N8zT\"]')\n",
    "    review_tags = driver.find_elements(By.XPATH, '//div[@class=\"t-ZTKy\"]')\n",
    "\n",
    "    for i in range(len(rating_tags)):\n",
    "        ratings.append(rating_tags[i].text)\n",
    "        summaries.append(summary_tags[i].text)\n",
    "        reviews.append(review_tags[i].text)\n",
    " # Go to the next page if available\n",
    "    try:\n",
    "        element = WebDriverWait(driver, 40).until(\n",
    "            EC.presence_of_element_located((By.CLASS_NAME, '_1LKTO3'))\n",
    "        )\n",
    "        next_button = driver.find_element(By.XPATH, '//a[text()=\"Next\"]')\n",
    "        next_button.click()\n",
    "    except:\n",
    "        break"
   ]
  },
  {
   "cell_type": "code",
   "execution_count": 22,
   "id": "501badf3",
   "metadata": {},
   "outputs": [],
   "source": [
    "driver.quit()"
   ]
  },
  {
   "cell_type": "markdown",
   "id": "fa937d4c",
   "metadata": {},
   "source": [
    "FLIPKART-SNEAKERS"
   ]
  },
  {
   "cell_type": "code",
   "execution_count": 23,
   "id": "a5457cc0",
   "metadata": {},
   "outputs": [],
   "source": [
    "import selenium\n",
    "import warnings\n",
    "warnings.filterwarnings('ignore')\n",
    "from selenium.common.exceptions import StaleElementReferenceException, NoSuchElementException\n",
    "from selenium.webdriver.common.by import By\n",
    "import time"
   ]
  },
  {
   "cell_type": "code",
   "execution_count": 24,
   "id": "93e44e8a",
   "metadata": {},
   "outputs": [
    {
     "name": "stdout",
     "output_type": "stream",
     "text": [
      "/Users/sukanyasemwal\n"
     ]
    }
   ],
   "source": [
    "import os\n",
    "print(os.getcwd())"
   ]
  },
  {
   "cell_type": "code",
   "execution_count": 25,
   "id": "691987ba",
   "metadata": {},
   "outputs": [],
   "source": [
    "from selenium import webdriver\n",
    "from selenium.webdriver.chrome.service import Service\n",
    "from selenium.webdriver.support.ui import WebDriverWait\n",
    "from selenium.webdriver.support import expected_conditions as EC\n",
    "\n",
    "\n",
    "with open('/Users/sukanyasemwal/Downloads/chromedriver_mac_arm64/chromedriver', 'rb') as f:\n",
    "    encoded_data = f.read()\n",
    "    decoded_data = encoded_data.decode('utf-8', 'ignore')\n",
    "\n",
    "driver = webdriver.Chrome(service=Service(executable_path='/Users/sukanyasemwal/Downloads/chromedriver_mac_arm64/chromedriver'))"
   ]
  },
  {
   "cell_type": "code",
   "execution_count": 26,
   "id": "f9ff1597",
   "metadata": {},
   "outputs": [],
   "source": [
    "url = 'https://www.flipkart.com/'\n",
    "driver = webdriver.Chrome()\n",
    "driver.get(url)"
   ]
  },
  {
   "cell_type": "code",
   "execution_count": 27,
   "id": "eedd9ee1",
   "metadata": {},
   "outputs": [],
   "source": [
    "try:\n",
    "    driver.find_element(By.XPATH, '//button[text()=\"✕\"]').click()\n",
    "except:\n",
    "    pass"
   ]
  },
  {
   "cell_type": "code",
   "execution_count": 28,
   "id": "9c52e24a",
   "metadata": {},
   "outputs": [],
   "source": [
    "search_field = driver.find_element(By.NAME, 'q')\n",
    "search_field.send_keys('sneakers')\n",
    "search_field.submit()"
   ]
  },
  {
   "cell_type": "code",
   "execution_count": 29,
   "id": "5c11e047",
   "metadata": {},
   "outputs": [],
   "source": [
    "sneakers = []\n",
    "while len(sneakers) < 100:\n",
    "    sneakers.extend(driver.find_elements(By.XPATH, '//div[@class=\"_2B_pmu\"]'))\n",
    "    try:\n",
    "        next_button = driver.find_element(By.XPATH, '//a[text()=\"Next\"]')\n",
    "        driver.execute_script(\"arguments[0].click();\", next_button)\n",
    "    except:\n",
    "        break"
   ]
  },
  {
   "cell_type": "code",
   "execution_count": 30,
   "id": "22660f3b",
   "metadata": {},
   "outputs": [],
   "source": [
    "import time\n",
    "\n",
    "# Wait for the page to load\n",
    "time.sleep(5)\n",
    "\n",
    "# Scrape the elements\n",
    "for sneaker in sneakers[:100]:\n",
    "    brand = sneaker.find_element(By.XPATH, \".//div[@class='_2B_pmu']\").text\n",
    "    description = sneaker.find_element(By.XPATH, \".//a[@class='_2mylT6']\").text\n",
    "    price = sneaker.find_element(By.XPATH, \".//div[@class='_1vC4OE _2rQ-NK']\").text\n",
    "    print(f\"Brand: {brand}, Description: {description}, Price: {price}\")\n"
   ]
  },
  {
   "cell_type": "code",
   "execution_count": 31,
   "id": "8e44d5cd",
   "metadata": {},
   "outputs": [],
   "source": [
    "driver.quit()"
   ]
  },
  {
   "cell_type": "markdown",
   "id": "8e17d2ac",
   "metadata": {},
   "source": [
    "AMAZON-i7CORE LAPTOPS"
   ]
  },
  {
   "cell_type": "code",
   "execution_count": 32,
   "id": "bb68db6b",
   "metadata": {},
   "outputs": [],
   "source": [
    "import selenium\n",
    "import warnings\n",
    "warnings.filterwarnings('ignore')\n",
    "from selenium.common.exceptions import StaleElementReferenceException, NoSuchElementException\n",
    "from selenium.webdriver.common.by import By\n",
    "import time"
   ]
  },
  {
   "cell_type": "code",
   "execution_count": 33,
   "id": "b64d2ce8",
   "metadata": {},
   "outputs": [
    {
     "name": "stdout",
     "output_type": "stream",
     "text": [
      "/Users/sukanyasemwal\n"
     ]
    }
   ],
   "source": [
    "import os\n",
    "print(os.getcwd())"
   ]
  },
  {
   "cell_type": "code",
   "execution_count": 34,
   "id": "284aa444",
   "metadata": {},
   "outputs": [],
   "source": [
    "from selenium import webdriver\n",
    "from selenium.webdriver.chrome.service import Service\n",
    "from selenium.webdriver.support.ui import WebDriverWait\n",
    "from selenium.webdriver.support import expected_conditions as EC\n",
    "\n",
    "\n",
    "with open('/Users/sukanyasemwal/Downloads/chromedriver_mac_arm64/chromedriver', 'rb') as f:\n",
    "    encoded_data = f.read()\n",
    "    decoded_data = encoded_data.decode('utf-8', 'ignore')\n",
    "\n",
    "driver = webdriver.Chrome(service=Service(executable_path='/Users/sukanyasemwal/Downloads/chromedriver_mac_arm64/chromedriver'))"
   ]
  },
  {
   "cell_type": "code",
   "execution_count": 36,
   "id": "49dec6a3",
   "metadata": {},
   "outputs": [],
   "source": [
    "driver.get(\"https://www.amazon.in/\")\n",
    "time.sleep(5) # wait for 5 seconds to let the webpage load properly\n",
    "search_box = driver.find_element(By.ID, \"twotabsearchtextbox\")\n",
    "search_box.send_keys(\"Laptop\")\n",
    "search_box.submit()"
   ]
  },
  {
   "cell_type": "code",
   "execution_count": 37,
   "id": "16ae954b",
   "metadata": {},
   "outputs": [],
   "source": [
    "cpu_filter = WebDriverWait(driver, 10).until(EC.element_to_be_clickable((By.XPATH, \"//span[text()='Intel Core i7']\")))\n",
    "cpu_filter.click()"
   ]
  },
  {
   "cell_type": "code",
   "execution_count": 38,
   "id": "95d3191f",
   "metadata": {},
   "outputs": [
    {
     "name": "stdout",
     "output_type": "stream",
     "text": [
      "Title: ASUS Vivobook 14, Intel Core i7-1165G7 11th Gen, 14\" (35.56 cm) FHD, Thin and Laptop (16GB/512GB SSD/Intel Iris Xe Graphics/Windows 11/Office 2021/FP Sensor/Silver/1.55 kg), X415EA-EK701WS, Rating: 4.1 out of 5 stars, Price: 56,990\n",
      "Title: HP Pavilion Plus, 12th Gen Intel Core i7 16GB RAM/1TB SSD 14 inch(35.6 cm)Creator Laptop with OLED,UWVA,Eye Safe Laptop/Intel Iris Xe Graphics/Backlit KB/B&O/FPR/Win 11/Alexa Built-in/MSO,14-eh0024TU, Rating: 4.0 out of 5 stars, Price: 94,490\n",
      "Title: ASUS Vivobook 14, Intel Core i7-1165G7 11th Gen, 14\" (35.56 cm) FHD, Thin and Laptop (16GB/512GB SSD/Intel Iris Xe Graphics/Windows 11/Office 2021/FP Sensor/Silver/1.55 kg), X415EA-EK701WS, Rating: 4.1 out of 5 stars, Price: 56,990\n",
      "Title: HP Pavilion Plus, 12th Gen Intel Core i7 16GB RAM/1TB SSD 14 inch(35.6 cm)Creator Laptop with OLED,UWVA,Eye Safe Laptop/Intel Iris Xe Graphics/Backlit KB/B&O/FPR/Win 11/Alexa Built-in/MSO,14-eh0024TU, Rating: 4.0 out of 5 stars, Price: 94,490\n",
      "Title: Hp Pavilion 15 12Th Gen Intel Core I7 16Gb Sdram/1Tb Ssd 15.6 Inches (39.6Cm) Fhd,IPS/Intel Iris Xe Graphics/B&O/Windows 11 Home/Alexa/Backlit Kb/Fpr/Mso 2021/1.75Kg, 15-Eg2039Tu, Natural Silver, Rating: 3.8 out of 5 stars, Price: 89,990\n",
      "Title: ASUS Vivobook 15, 15.6-inch (39.62 cms) FHD, Intel Core i7-1065G7 10th Gen, Thin and Light Laptop (16GB/512GB SSD/Iris Plus Graphics/Windows 11/Office 2021/Silver/1.8 kg), X515JA-EJ701WS, Rating: 4.1 out of 5 stars, Price: 65,250\n",
      "Title: Fujitsu UH-X 11th Gen Intel Core i7 13.3\" FHD IPS 400Nits 2-in1 Touch Convertible Laptop (16GB/1TB SSD/Windows 11/MS Office 2021/Iris Xe Graphics/2 Yr Warranty/Backlit Kb/Black/0.997 kg, 4ZR1F38027), Rating: 4.3 out of 5 stars, Price: 89,990\n",
      "Title: MSI GF75 Thin Gaming, Intel Core i7-10750H, 44cm IPS-Level 144Hz Panel Laptop (8GB/512GB NVMe SSD/Windows 10 Home/Nvidia GeForce GTX 1650/GDDR6 4GB/Black/2.2kg) 10SCXR-654IN, Rating: 4.4 out of 5 stars, Price: 62,990\n",
      "Title: HP Victus Gaming Latest 12th Gen Intel Core i7 15.6 inch(39.6 cm) FHD Gaming Laptop (8GB RAM/512GB SSD/RTX 3050 4GB Graphics/144Hz/9ms Response Time/Win 11/MSO/BL KB/B&O/Alexa/Xbox Pass),15-fa0073TX, Rating: 4.3 out of 5 stars, Price: 85,990\n",
      "Title: Lenovo ThinkPad P14s Mobile Workstation 11th Gen Intel Core i7 14 inches FHD IPS 300 nits Thin and Light Laptop (16GB RAM/512GB SSD/Windows 11 Pro/Backlit/Black/3Y Premier Support/1.50Kg) 20VXS0G800, Rating: 5.0 out of 5 stars, Price: 1,03,990\n"
     ]
    }
   ],
   "source": [
    "laptop_list = driver.find_elements(By.XPATH, \"//div[@data-component-type='s-search-result']\")\n",
    "for laptop in laptop_list[:10]:\n",
    "    title = laptop.find_element(By.XPATH, \".//h2/a\").text\n",
    "    try:\n",
    "        rating = laptop.find_element(By.XPATH, \".//span[@class='a-icon-alt']\").get_attribute(\n",
    "            \"innerHTML\"\n",
    "        )\n",
    "    except:\n",
    "        rating = \"No rating\"\n",
    "    price = laptop.find_element(By.XPATH, \".//span[@class='a-price-whole']\").text\n",
    "\n",
    "    print(f\"Title: {title}, Rating: {rating}, Price: {price}\")"
   ]
  },
  {
   "cell_type": "code",
   "execution_count": 39,
   "id": "a598c945",
   "metadata": {},
   "outputs": [],
   "source": [
    "driver.quit()"
   ]
  },
  {
   "cell_type": "markdown",
   "id": "fd1da2f0",
   "metadata": {},
   "source": [
    "QUOTES-AZQUOTES"
   ]
  },
  {
   "cell_type": "code",
   "execution_count": 40,
   "id": "6bb501c5",
   "metadata": {},
   "outputs": [],
   "source": [
    "import selenium\n",
    "import warnings\n",
    "warnings.filterwarnings('ignore')\n",
    "from selenium.common.exceptions import StaleElementReferenceException, NoSuchElementException\n",
    "from selenium.webdriver.common.by import By\n",
    "import time"
   ]
  },
  {
   "cell_type": "code",
   "execution_count": 41,
   "id": "26ccffb5",
   "metadata": {},
   "outputs": [
    {
     "name": "stdout",
     "output_type": "stream",
     "text": [
      "/Users/sukanyasemwal\n"
     ]
    }
   ],
   "source": [
    "import os\n",
    "print(os.getcwd())"
   ]
  },
  {
   "cell_type": "code",
   "execution_count": 42,
   "id": "e407feaf",
   "metadata": {},
   "outputs": [],
   "source": [
    "from selenium import webdriver\n",
    "from selenium.webdriver.chrome.service import Service\n",
    "from selenium.webdriver.support.ui import WebDriverWait\n",
    "from selenium.webdriver.support import expected_conditions as EC\n",
    "\n",
    "\n",
    "with open('/Users/sukanyasemwal/Downloads/chromedriver_mac_arm64/chromedriver', 'rb') as f:\n",
    "    encoded_data = f.read()\n",
    "    decoded_data = encoded_data.decode('utf-8', 'ignore')\n",
    "\n",
    "driver = webdriver.Chrome(service=Service(executable_path='/Users/sukanyasemwal/Downloads/chromedriver_mac_arm64/chromedriver'))"
   ]
  },
  {
   "cell_type": "code",
   "execution_count": 43,
   "id": "12e85948",
   "metadata": {},
   "outputs": [],
   "source": [
    "driver = webdriver.Chrome()\n",
    "driver.get(\"https://www.azquotes.com/\")"
   ]
  },
  {
   "cell_type": "code",
   "execution_count": 44,
   "id": "8aebaf59",
   "metadata": {},
   "outputs": [],
   "source": [
    "search_button=driver.find_element(By.XPATH,\"/html/body/div[1]/div[1]/div[1]/div/div[3]/ul/li[5]/a\")\n",
    "search_button.click() "
   ]
  },
  {
   "cell_type": "code",
   "execution_count": 47,
   "id": "14d2cf33",
   "metadata": {},
   "outputs": [
    {
     "ename": "TimeoutException",
     "evalue": "Message: \n",
     "output_type": "error",
     "traceback": [
      "\u001b[0;31m---------------------------------------------------------------------------\u001b[0m",
      "\u001b[0;31mTimeoutException\u001b[0m                          Traceback (most recent call last)",
      "Input \u001b[0;32mIn [47]\u001b[0m, in \u001b[0;36m<cell line: 5>\u001b[0;34m()\u001b[0m\n\u001b[1;32m      5\u001b[0m \u001b[38;5;28;01mwhile\u001b[39;00m num_quotes \u001b[38;5;241m<\u001b[39m \u001b[38;5;241m1000\u001b[39m:\n\u001b[1;32m      6\u001b[0m     driver\u001b[38;5;241m.\u001b[39mexecute_script(\u001b[38;5;124m\"\u001b[39m\u001b[38;5;124mwindow.scrollTo(0, document.body.scrollHeight);\u001b[39m\u001b[38;5;124m\"\u001b[39m)\n\u001b[0;32m----> 7\u001b[0m     \u001b[43mWebDriverWait\u001b[49m\u001b[43m(\u001b[49m\u001b[43mdriver\u001b[49m\u001b[43m,\u001b[49m\u001b[43m \u001b[49m\u001b[38;5;241;43m60\u001b[39;49m\u001b[43m)\u001b[49m\u001b[38;5;241;43m.\u001b[39;49m\u001b[43muntil\u001b[49m\u001b[43m(\u001b[49m\u001b[43mEC\u001b[49m\u001b[38;5;241;43m.\u001b[39;49m\u001b[43mpresence_of_all_elements_located\u001b[49m\u001b[43m(\u001b[49m\u001b[43m(\u001b[49m\u001b[43mBy\u001b[49m\u001b[38;5;241;43m.\u001b[39;49m\u001b[43mXPATH\u001b[49m\u001b[43m,\u001b[49m\u001b[43m \u001b[49m\u001b[38;5;124;43m\"\u001b[39;49m\u001b[38;5;124;43m/html/body/div[1]/div/div[2]/div/div[2]/div[1]/div[1]/div/div[2]/div\u001b[39;49m\u001b[38;5;124;43m\"\u001b[39;49m\u001b[43m)\u001b[49m\u001b[43m)\u001b[49m\u001b[43m)\u001b[49m\n\u001b[1;32m      8\u001b[0m     num_quotes \u001b[38;5;241m=\u001b[39m \u001b[38;5;28mlen\u001b[39m(driver\u001b[38;5;241m.\u001b[39mfind_elements(By\u001b[38;5;241m.\u001b[39mXPATH, \u001b[38;5;124m\"\u001b[39m\u001b[38;5;124m/html/body/div[1]/div/div[2]/div/div[2]/div[1]/div[1]/div/div[2]/div\u001b[39m\u001b[38;5;124m\"\u001b[39m))\n",
      "File \u001b[0;32m~/opt/anaconda3/lib/python3.9/site-packages/selenium/webdriver/support/wait.py:95\u001b[0m, in \u001b[0;36mWebDriverWait.until\u001b[0;34m(self, method, message)\u001b[0m\n\u001b[1;32m     93\u001b[0m     \u001b[38;5;28;01mif\u001b[39;00m time\u001b[38;5;241m.\u001b[39mmonotonic() \u001b[38;5;241m>\u001b[39m end_time:\n\u001b[1;32m     94\u001b[0m         \u001b[38;5;28;01mbreak\u001b[39;00m\n\u001b[0;32m---> 95\u001b[0m \u001b[38;5;28;01mraise\u001b[39;00m TimeoutException(message, screen, stacktrace)\n",
      "\u001b[0;31mTimeoutException\u001b[0m: Message: \n"
     ]
    }
   ],
   "source": [
    "# Get the current number of quotes displayed\n",
    "num_quotes = len(driver.find_elements(By.XPATH, \"/html/body/div[1]/div/div[2]/div/div[2]/div[1]/div[1]/div/div[2]/div\"))\n",
    "\n",
    "# Keep scrolling down until 1000 quotes are displayed\n",
    "while num_quotes < 1000:\n",
    "    driver.execute_script(\"window.scrollTo(0, document.body.scrollHeight);\")\n",
    "    WebDriverWait(driver, 60).until(EC.presence_of_all_elements_located((By.XPATH, \"/html/body/div[1]/div/div[2]/div/div[2]/div[1]/div[1]/div/div[2]/div\")))\n",
    "    num_quotes = len(driver.find_elements(By.XPATH, \"/html/body/div[1]/div/div[2]/div/div[2]/div[1]/div[1]/div/div[2]/div\"))\n"
   ]
  },
  {
   "cell_type": "code",
   "execution_count": null,
   "id": "9f670fff",
   "metadata": {},
   "outputs": [],
   "source": [
    "quotes = []\n",
    "authors = []\n",
    "types = []\n",
    "\n",
    "quote_elems = driver.find_elements(By.XPATH, \"//div[@class='wrap-blockquote']\")\n",
    "for quote_elem in quote_elems:\n",
    "    quote = quote_elem.find_element(By.XPATH, \".//div[@class='title']/a\").text\n",
    "    author = quote_elem.find_element(By.XPATH, \".//div[@class='author']/a\").text\n",
    "    type_elem = quote_elem.find_element(By.XPATH, \".//div[@class='kw-box']/a\")\n",
    "    quote_type = type_elem.text if type_elem.text else \"Unknown\"\n",
    "    \n",
    "    quotes.append(quote)\n",
    "    authors.append(author)\n",
    "    types.append(quote_type)"
   ]
  },
  {
   "cell_type": "code",
   "execution_count": null,
   "id": "8e6caa36",
   "metadata": {},
   "outputs": [],
   "source": [
    "driver.quit()"
   ]
  },
  {
   "cell_type": "markdown",
   "id": "67da3c2e",
   "metadata": {},
   "source": [
    "JAGARAN-JOSH-PM OF INDIA"
   ]
  },
  {
   "cell_type": "code",
   "execution_count": 48,
   "id": "1b7e9ea2",
   "metadata": {},
   "outputs": [],
   "source": [
    "import selenium\n",
    "import warnings\n",
    "warnings.filterwarnings('ignore')\n",
    "from selenium.common.exceptions import StaleElementReferenceException, NoSuchElementException\n",
    "from selenium.webdriver.common.by import By\n",
    "import time"
   ]
  },
  {
   "cell_type": "code",
   "execution_count": 49,
   "id": "269a5faa",
   "metadata": {},
   "outputs": [
    {
     "name": "stdout",
     "output_type": "stream",
     "text": [
      "/Users/sukanyasemwal\n"
     ]
    }
   ],
   "source": [
    "import os\n",
    "print(os.getcwd())"
   ]
  },
  {
   "cell_type": "code",
   "execution_count": 50,
   "id": "8765abf4",
   "metadata": {},
   "outputs": [],
   "source": [
    "from selenium import webdriver\n",
    "from selenium.webdriver.chrome.service import Service\n",
    "from selenium.webdriver.support.ui import WebDriverWait\n",
    "from selenium.webdriver.support import expected_conditions as EC\n",
    "\n",
    "\n",
    "with open('/Users/sukanyasemwal/Downloads/chromedriver_mac_arm64/chromedriver', 'rb') as f:\n",
    "    encoded_data = f.read()\n",
    "    decoded_data = encoded_data.decode('utf-8', 'ignore')\n",
    "\n",
    "driver = webdriver.Chrome(service=Service(executable_path='/Users/sukanyasemwal/Downloads/chromedriver_mac_arm64/chromedriver'))"
   ]
  },
  {
   "cell_type": "code",
   "execution_count": 51,
   "id": "fc75c91d",
   "metadata": {},
   "outputs": [],
   "source": [
    "# Launch the Chrome browser and navigate to the URL\n",
    "driver = webdriver.Chrome()\n",
    "driver.get('https://www.jagranjosh.com/')"
   ]
  },
  {
   "cell_type": "code",
   "execution_count": 60,
   "id": "f7dcbb12",
   "metadata": {},
   "outputs": [],
   "source": [
    "# Find the 'GK' option from the homepage and click on it\n",
    "gk_option = driver.find_element(By.XPATH, \"//a[contains(text(),'GK')]\")\n",
    "gk_option.click()"
   ]
  },
  {
   "cell_type": "code",
   "execution_count": 61,
   "id": "7625228b",
   "metadata": {},
   "outputs": [],
   "source": [
    "# Wait for the page to load and then click on the 'List of all Prime Ministers of India' link\n",
    "prime_ministers_link = WebDriverWait(driver, 10).until(EC.element_to_be_clickable((By.XPATH, \"//a[contains(text(),'List of all Prime Ministers of India')]\")))\n",
    "prime_ministers_link.click()"
   ]
  },
  {
   "cell_type": "code",
   "execution_count": 62,
   "id": "34f076ff",
   "metadata": {},
   "outputs": [],
   "source": [
    "# Create an empty list to store the data\n",
    "pm_data = []\n",
    "\n",
    "# Loop through all the rows in the table and extract the required data\n",
    "rows = driver.find_elements(By.XPATH, \"/html/body/div[1]/div[1]/div[3]/div[1]/div[3]/div/div[2]/div/div[3]/table/tbody/tr\")\n",
    "for row in rows[1:]:\n",
    "    cols = row.find_elements(By.XPATH, \".//td\")\n",
    "    name = cols[0].text\n",
    "    born_dead = cols[1].text\n",
    "    term_of_office = cols[2].text\n",
    "    remarks = cols[3].text\n",
    "    pm_data.append([name, born_dead, term_of_office, remarks])\n"
   ]
  },
  {
   "cell_type": "code",
   "execution_count": 63,
   "id": "e7159d66",
   "metadata": {},
   "outputs": [
    {
     "name": "stdout",
     "output_type": "stream",
     "text": [
      "Empty DataFrame\n",
      "Columns: [Name, Born-Dead, Term of Office, Remarks]\n",
      "Index: []\n"
     ]
    }
   ],
   "source": [
    "# Create a DataFrame to store the extracted data\n",
    "df = pd.DataFrame(pm_data, columns=['Name', 'Born-Dead', 'Term of Office', 'Remarks'])\n",
    "print(df)"
   ]
  },
  {
   "cell_type": "code",
   "execution_count": 64,
   "id": "10ac5cef",
   "metadata": {},
   "outputs": [],
   "source": [
    "driver.quit()"
   ]
  },
  {
   "cell_type": "code",
   "execution_count": null,
   "id": "3f0ea372",
   "metadata": {},
   "outputs": [],
   "source": []
  }
 ],
 "metadata": {
  "kernelspec": {
   "display_name": "Python 3 (ipykernel)",
   "language": "python",
   "name": "python3"
  },
  "language_info": {
   "codemirror_mode": {
    "name": "ipython",
    "version": 3
   },
   "file_extension": ".py",
   "mimetype": "text/x-python",
   "name": "python",
   "nbconvert_exporter": "python",
   "pygments_lexer": "ipython3",
   "version": "3.9.12"
  }
 },
 "nbformat": 4,
 "nbformat_minor": 5
}
