{
 "cells": [
  {
   "cell_type": "code",
   "execution_count": 1,
   "id": "4df904e1",
   "metadata": {},
   "outputs": [
    {
     "name": "stdout",
     "output_type": "stream",
     "text": [
      "Requirement already satisfied: selenium in ./opt/anaconda3/lib/python3.9/site-packages (4.8.2)\n",
      "Requirement already satisfied: trio-websocket~=0.9 in ./opt/anaconda3/lib/python3.9/site-packages (from selenium) (0.9.2)\n",
      "Requirement already satisfied: trio~=0.17 in ./opt/anaconda3/lib/python3.9/site-packages (from selenium) (0.22.0)\n",
      "Requirement already satisfied: urllib3[socks]~=1.26 in ./opt/anaconda3/lib/python3.9/site-packages (from selenium) (1.26.9)\n",
      "Requirement already satisfied: certifi>=2021.10.8 in ./opt/anaconda3/lib/python3.9/site-packages (from selenium) (2021.10.8)\n",
      "Requirement already satisfied: exceptiongroup>=1.0.0rc9 in ./opt/anaconda3/lib/python3.9/site-packages (from trio~=0.17->selenium) (1.1.0)\n",
      "Requirement already satisfied: async-generator>=1.9 in ./opt/anaconda3/lib/python3.9/site-packages (from trio~=0.17->selenium) (1.10)\n",
      "Requirement already satisfied: outcome in ./opt/anaconda3/lib/python3.9/site-packages (from trio~=0.17->selenium) (1.2.0)\n",
      "Requirement already satisfied: idna in ./opt/anaconda3/lib/python3.9/site-packages (from trio~=0.17->selenium) (3.3)\n",
      "Requirement already satisfied: sortedcontainers in ./opt/anaconda3/lib/python3.9/site-packages (from trio~=0.17->selenium) (2.4.0)\n",
      "Requirement already satisfied: sniffio in ./opt/anaconda3/lib/python3.9/site-packages (from trio~=0.17->selenium) (1.2.0)\n",
      "Requirement already satisfied: attrs>=19.2.0 in ./opt/anaconda3/lib/python3.9/site-packages (from trio~=0.17->selenium) (21.4.0)\n",
      "Requirement already satisfied: wsproto>=0.14 in ./opt/anaconda3/lib/python3.9/site-packages (from trio-websocket~=0.9->selenium) (1.2.0)\n",
      "Requirement already satisfied: PySocks!=1.5.7,<2.0,>=1.5.6 in ./opt/anaconda3/lib/python3.9/site-packages (from urllib3[socks]~=1.26->selenium) (1.7.1)\n",
      "Requirement already satisfied: h11<1,>=0.9.0 in ./opt/anaconda3/lib/python3.9/site-packages (from wsproto>=0.14->trio-websocket~=0.9->selenium) (0.14.0)\n"
     ]
    }
   ],
   "source": [
    "!pip install selenium --upgrade"
   ]
  },
  {
   "cell_type": "markdown",
   "id": "b08b849c",
   "metadata": {},
   "source": [
    "PRODUCT SEARCH"
   ]
  },
  {
   "cell_type": "code",
   "execution_count": 2,
   "id": "5935f33b",
   "metadata": {},
   "outputs": [],
   "source": [
    "import selenium\n",
    "from selenium.webdriver.common.keys import Keys\n",
    "import time\n",
    "import warnings\n",
    "warnings.filterwarnings('ignore')\n",
    "from selenium.common.exceptions import StaleElementReferenceException, NoSuchElementException\n",
    "from selenium.webdriver.common.by import By"
   ]
  },
  {
   "cell_type": "code",
   "execution_count": 3,
   "id": "af34cafc",
   "metadata": {},
   "outputs": [
    {
     "name": "stdout",
     "output_type": "stream",
     "text": [
      "/Users/sukanyasemwal\n"
     ]
    }
   ],
   "source": [
    "import os\n",
    "print(os.getcwd())"
   ]
  },
  {
   "cell_type": "code",
   "execution_count": 4,
   "id": "fb2d3025",
   "metadata": {},
   "outputs": [],
   "source": [
    "from selenium import webdriver\n",
    "from selenium.webdriver.chrome.service import Service\n",
    "driver = webdriver.Chrome(executable_path='/Users/sukanyasemwal/Downloads/chromedriver_mac_arm64')"
   ]
  },
  {
   "cell_type": "code",
   "execution_count": 5,
   "id": "78c5b887",
   "metadata": {},
   "outputs": [],
   "source": [
    "driver.get(\"https://www.amazon.in/\")"
   ]
  },
  {
   "cell_type": "code",
   "execution_count": 7,
   "id": "ea762f98",
   "metadata": {},
   "outputs": [
    {
     "name": "stdout",
     "output_type": "stream",
     "text": [
      "cookwaredosa tawa\n"
     ]
    }
   ],
   "source": [
    "search_box = driver.find_element(By.XPATH,\"//input[@name='field-keywords']\")\n",
    "search_term = input(\"cookware\")"
   ]
  },
  {
   "cell_type": "code",
   "execution_count": 8,
   "id": "012f09d6",
   "metadata": {},
   "outputs": [],
   "source": [
    "search_box.send_keys(search_term)"
   ]
  },
  {
   "cell_type": "code",
   "execution_count": 9,
   "id": "8c5936da",
   "metadata": {},
   "outputs": [],
   "source": [
    "search_button = driver.find_element(By.XPATH,\"//input[@value='Go']\")\n",
    "search_button.click()\n",
    "time.sleep(5)"
   ]
  },
  {
   "cell_type": "code",
   "execution_count": 10,
   "id": "20379f96",
   "metadata": {},
   "outputs": [],
   "source": [
    "search_results = driver.find_elements(By.XPATH,\"//div[@class='s-result-item']\")\n",
    "for result in search_results:\n",
    "    title = result.find_element(By.XPATH,\".//h2/a/span\").text\n",
    "    print(title)"
   ]
  },
  {
   "cell_type": "markdown",
   "id": "63966681",
   "metadata": {},
   "source": [
    "PRODUCT DATAFRAME AND CSV"
   ]
  },
  {
   "cell_type": "code",
   "execution_count": 11,
   "id": "32a01f70",
   "metadata": {},
   "outputs": [],
   "source": [
    "from selenium import webdriver\n",
    "from selenium.webdriver.chrome.service import Service\n",
    "import pandas as pd"
   ]
  },
  {
   "cell_type": "code",
   "execution_count": 12,
   "id": "f6f998df",
   "metadata": {},
   "outputs": [],
   "source": [
    "driver_service = Service('/Users/sukanyasemwal/Downloads/chromedriver_mac_arm64/chromedriver')\n",
    "driver = webdriver.Chrome(service=driver_service)"
   ]
  },
  {
   "cell_type": "code",
   "execution_count": 13,
   "id": "c9d4828a",
   "metadata": {},
   "outputs": [],
   "source": [
    "df = pd.DataFrame(columns=['Brand', 'Product Name', 'Price', 'Return/Exchange', 'Expected Delivery', 'Availability', 'Product URL'])\n"
   ]
  },
  {
   "cell_type": "code",
   "execution_count": 14,
   "id": "e72d9e44",
   "metadata": {},
   "outputs": [],
   "source": [
    "def extract_product_details(result):\n",
    "    # extract brand name\n",
    "    try:\n",
    "        brand = result.find_element(By.XPATH,\".//div[@class='s-result-list s-search-results sg-row']/div/div/div/div[2]/div[1]/div[1]/div[1]/span[1]\").text\n",
    "    except:\n",
    "        brand = \"-\"\n",
    "        \n",
    "    # extract product name\n",
    "    try:\n",
    "        product_name = result.find_element(By.XPATH,\".//h2/a/span\").text\n",
    "    except:\n",
    "        product_name = \"-\"\n",
    "    \n",
    "    # extract price\n",
    "    try:\n",
    "        price = result.find_element(By.XPATH,\".//a[@class='a-link-normal a-text-normal']/span[1]/span[2]/span[2]\").text\n",
    "    except:\n",
    "        price = \"-\"\n",
    "    \n",
    "    # extract return/exchange\n",
    "    try:\n",
    "        return_exchange = result.find_element(By.XPATH,\".//span[contains(text(),'Return or exchange')]/parent::div/following-sibling::div/span[1]\").text\n",
    "    except:\n",
    "        return_exchange = \"-\"\n",
    "    \n",
    "    # extract expected delivery\n",
    "    try:\n",
    "        expected_delivery = result.find_element(By.XPATH,\".//span[contains(text(),'Arrives:')]/parent::div/span[1]\").text\n",
    "    except:\n",
    "        expected_delivery = \"-\"\n",
    "    \n",
    "    # extract availability\n",
    "    try:\n",
    "        availability = result.find_element(By.XPATH,\".//span[contains(text(),'in stock')]\").text\n",
    "    except:\n",
    "        availability = \"-\"\n",
    "    \n",
    "    # extract product URL\n",
    "    try:\n",
    "        product_url = result.find_element(By.XPATH,\".//h2/a\").get_attribute('href')\n",
    "    except:\n",
    "        product_url = \"-\"\n",
    "    \n",
    "    # return a dictionary of extracted details\n",
    "    return {\n",
    "        'Brand': brand,\n",
    "        'Product Name': product_name,\n",
    "        'Price': price,\n",
    "        'Return/Exchange': return_exchange,\n",
    "        'Expected Delivery': expected_delivery,\n",
    "        'Availability': availability,\n",
    "        'Product URL': product_url}\n"
   ]
  },
  {
   "cell_type": "code",
   "execution_count": 15,
   "id": "1da24b27",
   "metadata": {},
   "outputs": [],
   "source": [
    "for i in range(1, 4):\n",
    "    # navigate to the search results page\n",
    "    driver.get(f'https://www.amazon.in/s?k={search_term}&page={i}')\n",
    "    \n",
    "    # wait for the page to load\n",
    "    time.sleep(5)\n",
    "    \n",
    "    # extract all the products listed on the page\n",
    "    search_results = driver.find_elements(By.XPATH,\"//div[@class='s-result-item']\")\n",
    "    \n",
    "    # loop through the search results and extract details for each product\n",
    "    for result in search_results:\n",
    "        product_details = extract_product_details(result)\n",
    "        \n",
    "        # add the details to the DataFrame\n",
    "        df = df.append(product_details, ignore_index=True)\n"
   ]
  },
  {
   "cell_type": "code",
   "execution_count": 16,
   "id": "7c478b88",
   "metadata": {},
   "outputs": [],
   "source": [
    "df.to_csv('amazon_search_results.csv', index=False)"
   ]
  },
  {
   "cell_type": "code",
   "execution_count": null,
   "id": "5322309f",
   "metadata": {},
   "outputs": [],
   "source": []
  }
 ],
 "metadata": {
  "kernelspec": {
   "display_name": "Python 3 (ipykernel)",
   "language": "python",
   "name": "python3"
  },
  "language_info": {
   "codemirror_mode": {
    "name": "ipython",
    "version": 3
   },
   "file_extension": ".py",
   "mimetype": "text/x-python",
   "name": "python",
   "nbconvert_exporter": "python",
   "pygments_lexer": "ipython3",
   "version": "3.9.12"
  }
 },
 "nbformat": 4,
 "nbformat_minor": 5
}
